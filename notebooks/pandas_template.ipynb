{
 "cells": [
  {
   "cell_type": "code",
   "execution_count": 1,
   "id": "2be8cdc1",
   "metadata": {
    "ExecuteTime": {
     "end_time": "2024-07-24T17:10:05.217888Z",
     "start_time": "2024-07-24T17:09:54.846019Z"
    }
   },
   "outputs": [],
   "source": [
    "import pandas as pd\n",
    "import sqlalchemy as sa\n",
    "import os\n",
    "from dotenv import load_dotenv\n",
    "load_dotenv()\n",
    "\n",
    "user = os.environ['REDSHIFT_USER']\n",
    "password = os.environ['REDSHIFT_PASSWORD']\n",
    "host = os.environ['REDSHIFT_HOST']\n",
    "port = os.environ['REDSHIFT_PORT']\n",
    "db = os.environ['REDSHIFT_DB']\n"
   ]
  },
  {
   "cell_type": "code",
   "execution_count": 2,
   "id": "bbad5ccd099a3183",
   "metadata": {
    "ExecuteTime": {
     "end_time": "2024-07-24T17:05:48.563377Z",
     "start_time": "2024-07-24T17:05:47.426816Z"
    }
   },
   "outputs": [],
   "source": [
    "def get_sqlalchemy_engine():\n",
    "    return sa.create_engine(\n",
    "        url=f\"postgresql://{user}:{password}@{host}:{port}/{db}\",\n",
    "        pool_size=100,\n",
    "        max_overflow=200,\n",
    "        client_encoding='utf8',\n",
    "        executemany_mode='batch',\n",
    "        echo=False  # True for debbuging\n",
    "    )\n",
    "\n",
    "\n",
    "def get_pandas_df_from_query(q):\n",
    "    global db_conn\n",
    "    return pd.read_sql_query(q, db_conn)\n",
    "\n",
    "\n",
    "def ingest_pandas_df(df, schema, table, mode='append'):  # modes 'replace' to recreate table\n",
    "    global db_conn\n",
    "    r = df.to_sql(name=table, con=db_conn, schema=schema, if_exists=mode, index=False, chunksize=2000, method='multi')\n",
    "    print(f'Ingested data for {schema}.{table}, Record Count: {len(df)}, Ingested: {r}')\n",
    "\n",
    "\n",
    "db_conn = get_sqlalchemy_engine()"
   ]
  },
  {
   "cell_type": "code",
   "execution_count": 3,
   "id": "ec4028d00a69c6fa",
   "metadata": {},
   "outputs": [
    {
     "data": {
      "text/plain": [
       "10"
      ]
     },
     "execution_count": 3,
     "metadata": {},
     "output_type": "execute_result"
    }
   ],
   "source": [
    "query = 'select * from public.shipments limit 10;'\n",
    "df = get_pandas_df_from_query(query)\n",
    "len(df)"
   ]
  },
  {
   "cell_type": "code",
   "execution_count": 4,
   "id": "fcb7ebae-7d1a-4c76-9344-7d3fe7212dbd",
   "metadata": {},
   "outputs": [
    {
     "name": "stdout",
     "output_type": "stream",
     "text": [
      "Ingested data for zzz_jay_test.shipment_test, Record Count: 10, Ingested: 10\n"
     ]
    }
   ],
   "source": [
    "schema = 'zzz_jay_test'\n",
    "table = 'shipment_test'\n",
    "ingest_pandas_df(df, schema, table)"
   ]
  },
  {
   "cell_type": "code",
   "execution_count": null,
   "id": "395726b7-37f1-4ce3-a69f-1d5150dcd2dd",
   "metadata": {},
   "outputs": [],
   "source": []
  }
 ],
 "metadata": {
  "kernelspec": {
   "display_name": "Python 3 (ipykernel)",
   "language": "python",
   "name": "python3"
  },
  "language_info": {
   "codemirror_mode": {
    "name": "ipython",
    "version": 3
   },
   "file_extension": ".py",
   "mimetype": "text/x-python",
   "name": "python",
   "nbconvert_exporter": "python",
   "pygments_lexer": "ipython3",
   "version": "3.9.19"
  }
 },
 "nbformat": 4,
 "nbformat_minor": 5
}
